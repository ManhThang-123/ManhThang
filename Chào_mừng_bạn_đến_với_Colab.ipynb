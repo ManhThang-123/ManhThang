{
  "cells": [
    {
      "cell_type": "markdown",
      "metadata": {
        "id": "view-in-github",
        "colab_type": "text"
      },
      "source": [
        "<a href=\"https://colab.research.google.com/github/ManhThang-123/ManhThang/blob/main/Ch%C3%A0o_m%E1%BB%ABng_b%E1%BA%A1n_%C4%91%E1%BA%BFn_v%E1%BB%9Bi_Colab.ipynb\" target=\"_parent\"><img src=\"https://colab.research.google.com/assets/colab-badge.svg\" alt=\"Open In Colab\"/></a>"
      ]
    },
    {
      "cell_type": "code",
      "source": [
        "def calculate_statisitics():\n",
        "   while True:\n",
        "       try:\n",
        "          # get the three input values from the user\n",
        "            num1 = float(input(\"Enter the first number: \"))\n",
        "            num2 = float(input(\"Enter the second number: \"))\n",
        "            num3 = float(input(\"Enter the third number: \"))\n",
        "\n",
        "            # calculate the average\n",
        "            average = (num1 + num2 + num3) / 3\n",
        "\n",
        "            # calculate the median\n",
        "            if num1 <= num2 <= num3 or num1 >= num2 >= num3:\n",
        "                median = num2\n",
        "            elif num2 <= num1 <= num3 or num2 >= num1 >= num3:\n",
        "                median = num1\n",
        "            else:\n",
        "                median = num3\n",
        "\n",
        "            # calculate the range\n",
        "            range = max(num1, num2, num3) - min(num1, num2, num3)\n",
        "\n",
        "            # print the results\n",
        "            print(\"Average:\", average)\n",
        "            print(\"Median:\", median)\n",
        "            print(\"Range:\", range)\n",
        "\n",
        "            break  # exit the loop if successful\n",
        "\n",
        "        except:\n",
        "          print(\"Invalid input. Please enter a valid number.\")\n",
        "\n",
        "calculate_statisitics()"
      ],
      "metadata": {
        "id": "eP2LTIK4fBIc",
        "outputId": "ec257407-a674-4603-a7e6-a6c8004ba7e0",
        "colab": {
          "base_uri": "https://localhost:8080/",
          "height": 106
        }
      },
      "execution_count": 6,
      "outputs": [
        {
          "output_type": "error",
          "ename": "IndentationError",
          "evalue": "unindent does not match any outer indentation level (<tokenize>, line 30)",
          "traceback": [
            "\u001b[0;36m  File \u001b[0;32m\"<tokenize>\"\u001b[0;36m, line \u001b[0;32m30\u001b[0m\n\u001b[0;31m    except:\u001b[0m\n\u001b[0m    ^\u001b[0m\n\u001b[0;31mIndentationError\u001b[0m\u001b[0;31m:\u001b[0m unindent does not match any outer indentation level\n"
          ]
        }
      ]
    }
  ],
  "metadata": {
    "colab": {
      "name": "Chào mừng bạn đến với Colab",
      "provenance": [],
      "include_colab_link": true
    },
    "kernelspec": {
      "display_name": "Python 3",
      "name": "python3"
    }
  },
  "nbformat": 4,
  "nbformat_minor": 0
}