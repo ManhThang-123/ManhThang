{
  "cells": [
    {
      "cell_type": "markdown",
      "metadata": {
        "id": "view-in-github",
        "colab_type": "text"
      },
      "source": [
        "<a href=\"https://colab.research.google.com/github/ManhThang-123/ManhThang/blob/main/Ch%C3%A0o_m%E1%BB%ABng_b%E1%BA%A1n_%C4%91%E1%BA%BFn_v%E1%BB%9Bi_Colab.ipynb\" target=\"_parent\"><img src=\"https://colab.research.google.com/assets/colab-badge.svg\" alt=\"Open In Colab\"/></a>"
      ]
    },
    {
      "cell_type": "code",
      "source": [
        "def calculate_BMI(height, weight):\n",
        "  BMI = 0\n",
        "  if(height <= 0 or weight <= 0):\n",
        "    print(\"Invalid input\");\n",
        "  else:\n",
        "    BMI = height / (weight ** 2)\n",
        "  return BMI\n",
        "\n",
        "def display(BMI):\n",
        "  if(BMI < 18.5):\n",
        "    print(\"Your BMI is underweight\")\n",
        "  elif(BMI < 25):\n",
        "    print(\"Your BMI is healthy weight\")\n",
        "  elif(BMI < 30):\n",
        "    print(\"Your BMI is overweight\")\n",
        "  else:\n",
        "    print(\"Your BMI is obesity\")\n",
        "\n",
        "height = float(input(\"Enter your height in meters: \"))\n",
        "weight = float(input(\"Enter your weight in Kilograms: \"))\n",
        "\n",
        "BMI = calculate_BMI(height, weight)\n",
        "if (BMI != 0):\n",
        "  print(\"Your BMI is: \", BMI);\n",
        "  display(BMI)"
      ],
      "metadata": {
        "id": "bDsFlH6f0f8K",
        "outputId": "0da1da0d-3b76-4586-d6e6-b52ea1c65940",
        "colab": {
          "base_uri": "https://localhost:8080/"
        }
      },
      "execution_count": 2,
      "outputs": [
        {
          "output_type": "stream",
          "name": "stdout",
          "text": [
            "Enter your height in meters: 50\n",
            "Enter your weight in Kilograms: 1.7\n",
            "Your BMI is:  17.301038062283737\n",
            "Your BMI is underweight\n"
          ]
        }
      ]
    },
    {
      "cell_type": "code",
      "source": [
        "def convert_temperature():\n",
        "  celsisu = float(input(\"Enter temperature in Celsius: \"))\n",
        "  fahrenheit = (celsisu * 9/5) + 32\n",
        "  print(\"Temperature in Fahrenheit is: \", fahrenheit)\n",
        "convert_temperature()"
      ],
      "metadata": {
        "id": "bd2oxdQb00Zt",
        "outputId": "42a76cc4-f302-40b5-de84-3b4df4362714",
        "colab": {
          "base_uri": "https://localhost:8080/"
        }
      },
      "execution_count": 4,
      "outputs": [
        {
          "output_type": "stream",
          "name": "stdout",
          "text": [
            "Enter temperature in Celsius: 24\n",
            "Temperature in Fahrenheit is:  75.2\n"
          ]
        }
      ]
    },
    {
      "cell_type": "code",
      "source": [
        "def calculator():\n",
        "  num1 = float(input(\"Enter first number: \"))\n",
        "  num2 = float(input(\"Enter second number: \"))\n",
        "  operator = input(\"Enter operator (+, -, *, /): \")\n",
        "  if(operator == '+'):\n",
        "    result = num1 + num2\n",
        "  elif(operator == '-'):\n",
        "    result = num1 - num2\n",
        "  elif(operator == '*'):\n",
        "    result = num1 * num2\n",
        "  elif(operator == '/'):\n",
        "    result = num1 / num2\n",
        "  else:\n",
        "    print(\"Invalid operator\")\n",
        "  print(\"Result: \", result)\n",
        "calculator()"
      ],
      "metadata": {
        "id": "GMTf2X9a1Na_",
        "outputId": "ad40bbef-d751-4ce0-81f8-8575930661f8",
        "colab": {
          "base_uri": "https://localhost:8080/"
        }
      },
      "execution_count": 10,
      "outputs": [
        {
          "output_type": "stream",
          "name": "stdout",
          "text": [
            "Enter first number: 7.0\n",
            "Enter second number: 6.0\n",
            "Enter operator (+, -, *, /): +\n",
            "Result:  13.0\n"
          ]
        }
      ]
    },
    {
      "cell_type": "code",
      "source": [
        "def coin_toss():\n",
        "  head = float(input(\"Enter number of heads: \"))\n",
        "  if(head < 0.5):\n",
        "    print(\"Heads\")\n",
        "  else:\n",
        "    print(\"Tails\")\n",
        "coin_toss()"
      ],
      "metadata": {
        "id": "ufVaT_1W1U0a",
        "outputId": "6c602667-b5cb-49b4-f856-d95cc3329e74",
        "colab": {
          "base_uri": "https://localhost:8080/"
        }
      },
      "execution_count": 11,
      "outputs": [
        {
          "output_type": "stream",
          "name": "stdout",
          "text": [
            "Enter number of heads: 0.5\n",
            "Tails\n"
          ]
        }
      ]
    }
  ],
  "metadata": {
    "colab": {
      "name": "Chào mừng bạn đến với Colab",
      "provenance": [],
      "include_colab_link": true
    },
    "kernelspec": {
      "display_name": "Python 3",
      "name": "python3"
    }
  },
  "nbformat": 4,
  "nbformat_minor": 0
}